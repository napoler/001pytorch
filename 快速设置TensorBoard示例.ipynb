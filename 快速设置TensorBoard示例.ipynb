{
  "nbformat": 4,
  "nbformat_minor": 0,
  "metadata": {
    "colab": {
      "name": "快速设置TensorBoard示例.ipynb",
      "provenance": [],
      "collapsed_sections": [],
      "toc_visible": true,
      "authorship_tag": "ABX9TyPfB6W/kYSKB3KO+9Cvm8LK",
      "include_colab_link": true
    },
    "kernelspec": {
      "display_name": "Python 3",
      "name": "python3"
    }
  },
  "cells": [
    {
      "cell_type": "markdown",
      "metadata": {
        "id": "view-in-github",
        "colab_type": "text"
      },
      "source": [
        "<a href=\"https://colab.research.google.com/github/napoler/001pytorch/blob/master/%E5%BF%AB%E9%80%9F%E8%AE%BE%E7%BD%AETensorBoard%E7%A4%BA%E4%BE%8B.ipynb\" target=\"_parent\"><img src=\"https://colab.research.google.com/assets/colab-badge.svg\" alt=\"Open In Colab\"/></a>"
      ]
    },
    {
      "cell_type": "markdown",
      "metadata": {
        "id": "i4DfdO9CWMcc"
      },
      "source": [
        "## 设置TensorBoard"
      ]
    },
    {
      "cell_type": "code",
      "metadata": {
        "id": "5QIieP0JWIc8"
      },
      "source": [
        "# from tensorboardcolab import TensorBoardColab\n",
        "# tb = TensorBoardColab()\n",
        "\n",
        "from torch.utils.tensorboard import SummaryWriter\n",
        "\n",
        "# default `log_dir` is \"runs\" - we'll be more specific here\n",
        "writer = SummaryWriter('runs/TerryBert001')\n",
        "\n",
        "%load_ext tensorboard\n"
      ],
      "execution_count": null,
      "outputs": []
    },
    {
      "cell_type": "code",
      "metadata": {
        "colab": {
          "base_uri": "https://localhost:8080/",
          "height": 820
        },
        "id": "G2MvCR2cWWGM",
        "outputId": "e7f209f2-6e28-45d3-a511-c733f092e086"
      },
      "source": [
        "# 重载\n",
        "%reload_ext tensorboard\n",
        "%tensorboard --logdir=runs"
      ],
      "execution_count": null,
      "outputs": []
    },
    {
      "cell_type": "code",
      "metadata": {
        "colab": {
          "background_save": true
        },
        "id": "TWapv37MWeKV",
        "outputId": "3a771777-efe0-4100-a434-590684f3247b"
      },
      "source": [
        "# 简单示例\n",
        "import numpy as np\n",
        "rand=np.random.randint(0,500,(120,1))\n",
        "rand\n",
        "# import random\n",
        "# for i,it in enumerate( range(1,100)):\n",
        "#   it=it*\n",
        "#   # TensorBoard 可视化\n",
        "#   writer.add_scalar('training loss',\n",
        "#           it ,\n",
        "#             i,\n",
        "        \n",
        "#             )"
      ],
      "execution_count": null,
      "outputs": [
        {
          "output_type": "execute_result",
          "data": {
            "text/plain": [
              "array([[207],\n",
              "       [260],\n",
              "       [ 95],\n",
              "       [281],\n",
              "       [ 67],\n",
              "       [415],\n",
              "       [302],\n",
              "       [373],\n",
              "       [442],\n",
              "       [325],\n",
              "       [329],\n",
              "       [490],\n",
              "       [ 48],\n",
              "       [121],\n",
              "       [177],\n",
              "       [252],\n",
              "       [199],\n",
              "       [173],\n",
              "       [269],\n",
              "       [288],\n",
              "       [ 89],\n",
              "       [151],\n",
              "       [288],\n",
              "       [256],\n",
              "       [ 17],\n",
              "       [335],\n",
              "       [312],\n",
              "       [342],\n",
              "       [ 81],\n",
              "       [371],\n",
              "       [ 66],\n",
              "       [241],\n",
              "       [304],\n",
              "       [121],\n",
              "       [402],\n",
              "       [117],\n",
              "       [ 93],\n",
              "       [496],\n",
              "       [328],\n",
              "       [136],\n",
              "       [383],\n",
              "       [137],\n",
              "       [332],\n",
              "       [192],\n",
              "       [175],\n",
              "       [391],\n",
              "       [ 68],\n",
              "       [307],\n",
              "       [220],\n",
              "       [145],\n",
              "       [200],\n",
              "       [471],\n",
              "       [  7],\n",
              "       [ 69],\n",
              "       [163],\n",
              "       [374],\n",
              "       [151],\n",
              "       [407],\n",
              "       [191],\n",
              "       [128],\n",
              "       [233],\n",
              "       [363],\n",
              "       [457],\n",
              "       [327],\n",
              "       [237],\n",
              "       [300],\n",
              "       [424],\n",
              "       [  1],\n",
              "       [134],\n",
              "       [253],\n",
              "       [370],\n",
              "       [215],\n",
              "       [379],\n",
              "       [305],\n",
              "       [470],\n",
              "       [334],\n",
              "       [308],\n",
              "       [482],\n",
              "       [164],\n",
              "       [400],\n",
              "       [343],\n",
              "       [328],\n",
              "       [382],\n",
              "       [357],\n",
              "       [370],\n",
              "       [ 12],\n",
              "       [242],\n",
              "       [  2],\n",
              "       [274],\n",
              "       [201],\n",
              "       [449],\n",
              "       [221],\n",
              "       [ 27],\n",
              "       [356],\n",
              "       [234],\n",
              "       [105],\n",
              "       [231],\n",
              "       [304],\n",
              "       [100],\n",
              "       [353],\n",
              "       [ 37],\n",
              "       [100],\n",
              "       [ 91],\n",
              "       [497],\n",
              "       [296],\n",
              "       [136],\n",
              "       [276],\n",
              "       [418],\n",
              "       [229],\n",
              "       [424],\n",
              "       [ 66],\n",
              "       [499],\n",
              "       [ 91],\n",
              "       [486],\n",
              "       [  8],\n",
              "       [ 31],\n",
              "       [206],\n",
              "       [174],\n",
              "       [413],\n",
              "       [456]])"
            ]
          },
          "metadata": {
            "tags": []
          },
          "execution_count": 0
        }
      ]
    }
  ]
}