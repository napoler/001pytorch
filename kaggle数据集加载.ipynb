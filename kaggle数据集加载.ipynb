{
  "nbformat": 4,
  "nbformat_minor": 0,
  "metadata": {
    "colab": {
      "name": "kaggle数据集加载.ipynb",
      "provenance": [],
      "collapsed_sections": [],
      "authorship_tag": "ABX9TyNC1srEcgyOvPaU/w65Vin2",
      "include_colab_link": true
    },
    "kernelspec": {
      "name": "python3",
      "display_name": "Python 3"
    }
  },
  "cells": [
    {
      "cell_type": "markdown",
      "metadata": {
        "id": "view-in-github",
        "colab_type": "text"
      },
      "source": [
        "<a href=\"https://colab.research.google.com/github/napoler/001pytorch/blob/master/kaggle%E6%95%B0%E6%8D%AE%E9%9B%86%E5%8A%A0%E8%BD%BD.ipynb\" target=\"_parent\"><img src=\"https://colab.research.google.com/assets/colab-badge.svg\" alt=\"Open In Colab\"/></a>"
      ]
    },
    {
      "cell_type": "code",
      "metadata": {
        "colab": {
          "base_uri": "https://localhost:8080/"
        },
        "id": "hEHgdmg6h9Rw",
        "outputId": "6d27209d-6e7f-4cdc-cb36-b3ca88e0e726"
      },
      "source": [
        "# api_key = \"\" #@param {type:\"string\"}\n",
        "# api_token = {\"username\":\"USERNAME\",\"key\":api_key}\n",
        "api_token = {\"username\":\"terorg\",\"key\":\"5c8d80bf3083c4dc6ee\"} #@param {type:\"raw\"}\n",
        "\n",
        "\n",
        "# Info on how to get your api key (kaggle.json) here: https://github.com/Kaggle/kaggle-api#api-credentials\n",
        "!pip install kaggle\n",
        "\n",
        "\n",
        "\n",
        "import json\n",
        "import zipfile\n",
        "import os\n",
        "# !mkdir /content/.kaggle/\n",
        "with open('/root/.kaggle/kaggle.json', 'w') as file:\n",
        "    json.dump(api_token, file)\n",
        "# !chmod 600 /content/.kaggle/kaggle.json\n",
        "# !kaggle config path -p /content\n",
        "# !kaggle competitions download -c jigsaw-toxic-comment-classification-challenge\n",
        "# os.chdir('/content/competitions/jigsaw-toxic-comment-classification-challenge')\n",
        "# for file in os.listdir():\n",
        "#     zip_ref = zipfile.ZipFile(file, 'r')\n",
        "#     zip_ref.extractall()\n",
        "#     zip_ref.close()"
      ],
      "execution_count": null,
      "outputs": [
        {
          "output_type": "stream",
          "text": [
            "Requirement already satisfied: kaggle in /usr/local/lib/python3.6/dist-packages (1.5.10)\n",
            "Requirement already satisfied: python-dateutil in /usr/local/lib/python3.6/dist-packages (from kaggle) (2.8.1)\n",
            "Requirement already satisfied: certifi in /usr/local/lib/python3.6/dist-packages (from kaggle) (2020.12.5)\n",
            "Requirement already satisfied: requests in /usr/local/lib/python3.6/dist-packages (from kaggle) (2.23.0)\n",
            "Requirement already satisfied: python-slugify in /usr/local/lib/python3.6/dist-packages (from kaggle) (4.0.1)\n",
            "Requirement already satisfied: tqdm in /usr/local/lib/python3.6/dist-packages (from kaggle) (4.41.1)\n",
            "Requirement already satisfied: six>=1.10 in /usr/local/lib/python3.6/dist-packages (from kaggle) (1.15.0)\n",
            "Requirement already satisfied: urllib3 in /usr/local/lib/python3.6/dist-packages (from kaggle) (1.24.3)\n",
            "Requirement already satisfied: idna<3,>=2.5 in /usr/local/lib/python3.6/dist-packages (from requests->kaggle) (2.10)\n",
            "Requirement already satisfied: chardet<4,>=3.0.2 in /usr/local/lib/python3.6/dist-packages (from requests->kaggle) (3.0.4)\n",
            "Requirement already satisfied: text-unidecode>=1.3 in /usr/local/lib/python3.6/dist-packages (from python-slugify->kaggle) (1.3)\n"
          ],
          "name": "stdout"
        }
      ]
    },
    {
      "cell_type": "code",
      "metadata": {
        "colab": {
          "base_uri": "https://localhost:8080/"
        },
        "id": "AlioD7T6iIiu",
        "outputId": "38fec0d9-564d-4922-b01c-f037b96a0473"
      },
      "source": [
        "!kaggle datasets download -d terrychanorg/newsclassification"
      ],
      "execution_count": null,
      "outputs": [
        {
          "output_type": "stream",
          "text": [
            "Warning: Your Kaggle API key is readable by other users on this system! To fix this, you can run 'chmod 600 /root/.kaggle/kaggle.json'\n",
            "Downloading newsclassification.zip to /content\n",
            " 84% 5.00M/5.94M [00:00<00:00, 14.6MB/s]\n",
            "100% 5.94M/5.94M [00:00<00:00, 17.1MB/s]\n"
          ],
          "name": "stdout"
        }
      ]
    },
    {
      "cell_type": "code",
      "metadata": {
        "colab": {
          "base_uri": "https://localhost:8080/"
        },
        "id": "DDNet_JLlE4Z",
        "outputId": "f0f41393-1d98-44b4-c635-c5073a972a78"
      },
      "source": [
        "!ls"
      ],
      "execution_count": null,
      "outputs": [
        {
          "output_type": "stream",
          "text": [
            "newsclassification.zip\tsample_data\n"
          ],
          "name": "stdout"
        }
      ]
    }
  ]
}