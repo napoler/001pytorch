{
  "nbformat": 4,
  "nbformat_minor": 0,
  "metadata": {
    "colab": {
      "name": "快速产生随机数获取bert特征.ipynb",
      "provenance": [],
      "authorship_tag": "ABX9TyObUpvAHQpVaEuwcnRFhzJK",
      "include_colab_link": true
    },
    "kernelspec": {
      "name": "python3",
      "display_name": "Python 3"
    }
  },
  "cells": [
    {
      "cell_type": "markdown",
      "metadata": {
        "id": "view-in-github",
        "colab_type": "text"
      },
      "source": [
        "<a href=\"https://colab.research.google.com/github/napoler/001pytorch/blob/master/bert/%E5%BF%AB%E9%80%9F%E4%BA%A7%E7%94%9F%E9%9A%8F%E6%9C%BA%E6%95%B0%E8%8E%B7%E5%8F%96bert%E7%89%B9%E5%BE%81.ipynb\" target=\"_parent\"><img src=\"https://colab.research.google.com/assets/colab-badge.svg\" alt=\"Open In Colab\"/></a>"
      ]
    },
    {
      "cell_type": "markdown",
      "metadata": {
        "id": "ld8Nr7KVf65P"
      },
      "source": [
        ""
      ]
    },
    {
      "cell_type": "code",
      "metadata": {
        "id": "3Ry8IYsOfyW1"
      },
      "source": [
        "# !pip install textbrewer\n",
        "!pip install transformers"
      ],
      "execution_count": null,
      "outputs": []
    },
    {
      "cell_type": "code",
      "metadata": {
        "id": "5HqiIgWJfvuR"
      },
      "source": [
        "from transformers import AutoTokenizer,AutoModel\n",
        "\n",
        "tokenizer = AutoTokenizer.from_pretrained('bert-base-chinese')\n",
        "\n",
        "teacher_model= AutoModel.from_pretrained('bert-base-chinese')"
      ],
      "execution_count": null,
      "outputs": []
    },
    {
      "cell_type": "code",
      "metadata": {
        "id": "lkP57YDkfqHW"
      },
      "source": [
        "\n",
        "\n",
        "# 产生随机数据进行训练\n",
        "teacher_dataset = TensorDataset(torch.randint(low=0,high=21128,size=(100,128)))\n",
        "teacher_dataset[:4]\n",
        "for d in DataLoader(teacher_dataset, batch_size=1):\n",
        "    print(d)\n",
        "    out=teacher_model(d[0].to(\"cuda\"))\n",
        "    \n",
        "    #输出\n",
        "    print(out)\n",
        "    print(out['logits'])\n",
        "    break"
      ],
      "execution_count": null,
      "outputs": []
    }
  ]
}