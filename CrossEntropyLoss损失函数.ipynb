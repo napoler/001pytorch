{
  "nbformat": 4,
  "nbformat_minor": 0,
  "metadata": {
    "colab": {
      "name": "CrossEntropyLoss损失函数.ipynb",
      "provenance": [],
      "authorship_tag": "ABX9TyOM8+j/fiVC+vkBJfrG0Wyf",
      "include_colab_link": true
    },
    "kernelspec": {
      "name": "python3",
      "display_name": "Python 3"
    }
  },
  "cells": [
    {
      "cell_type": "markdown",
      "metadata": {
        "id": "view-in-github",
        "colab_type": "text"
      },
      "source": [
        "<a href=\"https://colab.research.google.com/github/napoler/001pytorch/blob/master/CrossEntropyLoss%E6%8D%9F%E5%A4%B1%E5%87%BD%E6%95%B0.ipynb\" target=\"_parent\"><img src=\"https://colab.research.google.com/assets/colab-badge.svg\" alt=\"Open In Colab\"/></a>"
      ]
    },
    {
      "cell_type": "code",
      "metadata": {
        "id": "cDfmrjp9qwnC"
      },
      "source": [
        ""
      ],
      "execution_count": null,
      "outputs": []
    },
    {
      "cell_type": "markdown",
      "metadata": {
        "id": "p0qxHUBfraaO"
      },
      "source": [
        "https://blog.csdn.net/geter_CS/article/details/84857220\n",
        "\n",
        "nn.CrossEntropyLoss()这个损失函数用于多分类问题虽然说的是交叉熵，但是和我理解的交叉熵不一样。nn.CrossEntropyLoss()是nn.logSoftmax()和nn.NLLLoss()的整合,可以直接使用它来替换网络中的这两个操作。下面我们来看一下计算过程。"
      ]
    },
    {
      "cell_type": "code",
      "metadata": {
        "colab": {
          "base_uri": "https://localhost:8080/"
        },
        "id": "SBsrWqHqqxOv",
        "outputId": "e39f4ffa-35bf-4abe-dfe5-f971d302c539"
      },
      "source": [
        "import torch\n",
        "import torch.nn as nn\n",
        "import math\n",
        "\n",
        "entroy=nn.CrossEntropyLoss()\n",
        "input=torch.Tensor([[-0.7715, -0.6205,-0.2562]])\n",
        "target = torch.tensor([0])\n",
        "output = entroy(input, target)\n",
        "print(output)\n",
        "#根据公式计算"
      ],
      "execution_count": 1,
      "outputs": [
        {
          "output_type": "stream",
          "text": [
            "tensor(1.3447)\n"
          ],
          "name": "stdout"
        }
      ]
    },
    {
      "cell_type": "code",
      "metadata": {
        "colab": {
          "base_uri": "https://localhost:8080/"
        },
        "id": "vZaJTnylq0-O",
        "outputId": "0038c593-07b3-4b4c-ced7-032d40a50226"
      },
      "source": [
        "m = nn.LogSoftmax()\n",
        "loss = nn.NLLLoss()\n",
        "input=m(input)\n",
        "output = loss(input, target)\n",
        "print('output:',output)"
      ],
      "execution_count": 2,
      "outputs": [
        {
          "output_type": "stream",
          "text": [
            "output: tensor(1.3447)\n"
          ],
          "name": "stdout"
        },
        {
          "output_type": "stream",
          "text": [
            "/usr/local/lib/python3.6/dist-packages/ipykernel_launcher.py:3: UserWarning: Implicit dimension choice for log_softmax has been deprecated. Change the call to include dim=X as an argument.\n",
            "  This is separate from the ipykernel package so we can avoid doing imports until\n"
          ],
          "name": "stderr"
        }
      ]
    },
    {
      "cell_type": "code",
      "metadata": {
        "colab": {
          "base_uri": "https://localhost:8080/"
        },
        "id": "sKmmnKzrq3_H",
        "outputId": "e8e031b7-06cb-4fb3-93be-ed332ad22034"
      },
      "source": [
        "input"
      ],
      "execution_count": 3,
      "outputs": [
        {
          "output_type": "execute_result",
          "data": {
            "text/plain": [
              "tensor([[-1.3447, -1.1937, -0.8294]])"
            ]
          },
          "metadata": {
            "tags": []
          },
          "execution_count": 3
        }
      ]
    },
    {
      "cell_type": "code",
      "metadata": {
        "colab": {
          "base_uri": "https://localhost:8080/"
        },
        "id": "oPI9q-YAq9ed",
        "outputId": "f80eed33-bc95-449e-c191-69d7ffdac399"
      },
      "source": [
        "target"
      ],
      "execution_count": 4,
      "outputs": [
        {
          "output_type": "execute_result",
          "data": {
            "text/plain": [
              "tensor([0])"
            ]
          },
          "metadata": {
            "tags": []
          },
          "execution_count": 4
        }
      ]
    }
  ]
}